{
 "cells": [
  {
   "cell_type": "code",
   "execution_count": 17,
   "metadata": {
    "id": "cOx97P8j6Mht"
   },
   "outputs": [],
   "source": [
    "# Importing the core libraries\n",
    "import pandas as pd\n",
    "import numpy as np\n",
    "import matplotlib.pyplot as plt"
   ]
  },
  {
   "cell_type": "code",
   "execution_count": 18,
   "metadata": {
    "colab": {
     "base_uri": "https://localhost:8080/"
    },
    "id": "ZM9X7av4x8ld",
    "outputId": "bc38348a-486d-48a9-a394-8cc6315d9f1f",
    "scrolled": true
   },
   "outputs": [
    {
     "name": "stdout",
     "output_type": "stream",
     "text": [
      "    AREA  PERIMETER  MAJOR_AXIS  MINOR_AXIS  ECCENTRICITY   EQDIASQ  SOLIDITY  \\\n",
      "0  63391   1568.405    390.3396    236.7461        0.7951  284.0984    0.8665   \n",
      "1  68358   1942.187    410.8594    234.7525        0.8207  295.0188    0.8765   \n",
      "2  73589   1246.538    452.3630    220.5547        0.8731  306.0987    0.9172   \n",
      "3  71106   1445.261    429.5291    216.0765        0.8643  300.8903    0.9589   \n",
      "4  80087   1251.524    469.3783    220.9344        0.8823  319.3273    0.9657   \n",
      "\n",
      "   CONVEX_AREA  EXTENT  ASPECT_RATIO  ROUNDNESS  COMPACTNESS  SHAPEFACTOR_1  \\\n",
      "0        73160  0.6394        1.6488     0.3238       0.7278         0.0062   \n",
      "1        77991  0.6772        1.7502     0.2277       0.7181         0.0060   \n",
      "2        80234  0.7127        2.0510     0.5951       0.6767         0.0061   \n",
      "3        74153  0.7028        1.9879     0.4278       0.7005         0.0060   \n",
      "4        82929  0.7459        2.1245     0.6425       0.6803         0.0059   \n",
      "\n",
      "   SHAPEFACTOR_2  SHAPEFACTOR_3  SHAPEFACTOR_4              Class  \n",
      "0         0.0037         0.5297         0.8734  Kirmizi_Pistachio  \n",
      "1         0.0034         0.5156         0.9024  Kirmizi_Pistachio  \n",
      "2         0.0030         0.4579         0.9391  Kirmizi_Pistachio  \n",
      "3         0.0030         0.4907         0.9755  Kirmizi_Pistachio  \n",
      "4         0.0028         0.4628         0.9833  Kirmizi_Pistachio  \n",
      "        AREA  PERIMETER  MAJOR_AXIS  MINOR_AXIS  ECCENTRICITY   EQDIASQ  \\\n",
      "2143   85983  1157.1160    444.3447    248.8627        0.8284  330.8730   \n",
      "2144   85691  2327.3459    439.8794    278.9297        0.7732  330.3107   \n",
      "2145  101136  1255.6190    475.2161    271.3299        0.8210  358.8459   \n",
      "2146   97409  1195.2150    452.1823    274.5764        0.7945  352.1718   \n",
      "2147   78466  2356.9080    445.9131    258.5125        0.8148  316.0791   \n",
      "\n",
      "      SOLIDITY  CONVEX_AREA  EXTENT  ASPECT_RATIO  ROUNDNESS  COMPACTNESS  \\\n",
      "2143    0.9823        87536  0.6799        1.7855     0.8070       0.7446   \n",
      "2144    0.8886        96439  0.6590        1.5770     0.1988       0.7509   \n",
      "2145    0.9888       102286  0.7584        1.7514     0.8061       0.7551   \n",
      "2146    0.9902        98376  0.7635        1.6468     0.8569       0.7788   \n",
      "2147    0.8662        90591  0.6123        1.7249     0.1775       0.7088   \n",
      "\n",
      "      SHAPEFACTOR_1  SHAPEFACTOR_2  SHAPEFACTOR_3  SHAPEFACTOR_4  \\\n",
      "2143         0.0052         0.0029         0.5545         0.9900   \n",
      "2144         0.0051         0.0033         0.5639         0.8892   \n",
      "2145         0.0047         0.0027         0.5702         0.9987   \n",
      "2146         0.0046         0.0028         0.6066         0.9989   \n",
      "2147         0.0057         0.0033         0.5024         0.8667   \n",
      "\n",
      "               Class  \n",
      "2143  Siit_Pistachio  \n",
      "2144  Siit_Pistachio  \n",
      "2145  Siit_Pistachio  \n",
      "2146  Siit_Pistachio  \n",
      "2147  Siit_Pistachio  \n"
     ]
    }
   ],
   "source": [
    "#loading the dataset\n",
    "df=pd.read_csv('Pistachio_Features_Dataset.csv')\n",
    "print(df.head())\n",
    "print(df.tail())"
   ]
  },
  {
   "cell_type": "code",
   "execution_count": 19,
   "metadata": {
    "colab": {
     "base_uri": "https://localhost:8080/"
    },
    "id": "SI4dq_Ws5ic8",
    "outputId": "ebc17edd-7642-474b-ee7e-0ad798c72303"
   },
   "outputs": [
    {
     "name": "stdout",
     "output_type": "stream",
     "text": [
      "Index(['AREA', 'PERIMETER', 'MAJOR_AXIS', 'MINOR_AXIS', 'ECCENTRICITY',\n",
      "       'EQDIASQ', 'SOLIDITY', 'CONVEX_AREA', 'EXTENT', 'ASPECT_RATIO',\n",
      "       'ROUNDNESS', 'COMPACTNESS', 'SHAPEFACTOR_1', 'SHAPEFACTOR_2',\n",
      "       'SHAPEFACTOR_3', 'SHAPEFACTOR_4', 'Class'],\n",
      "      dtype='object')\n",
      "(Rows, Columns):  (2148, 17)\n"
     ]
    },
    {
     "data": {
      "text/plain": [
       "AREA             False\n",
       "PERIMETER        False\n",
       "MAJOR_AXIS       False\n",
       "MINOR_AXIS       False\n",
       "ECCENTRICITY     False\n",
       "EQDIASQ          False\n",
       "SOLIDITY         False\n",
       "CONVEX_AREA      False\n",
       "EXTENT           False\n",
       "ASPECT_RATIO     False\n",
       "ROUNDNESS        False\n",
       "COMPACTNESS      False\n",
       "SHAPEFACTOR_1    False\n",
       "SHAPEFACTOR_2    False\n",
       "SHAPEFACTOR_3    False\n",
       "SHAPEFACTOR_4    False\n",
       "Class            False\n",
       "dtype: bool"
      ]
     },
     "execution_count": 19,
     "metadata": {},
     "output_type": "execute_result"
    }
   ],
   "source": [
    "#Print the column name of dataset\n",
    "print(df.columns)\n",
    "#Total rows and columns in the dataset\n",
    "print(\"(Rows, Columns): \",df.shape)\n",
    "#Check if there is any missing value in the dataset\n",
    "df.isna().any()"
   ]
  },
  {
   "cell_type": "code",
   "execution_count": 20,
   "metadata": {
    "id": "4Sluru_iMTqp"
   },
   "outputs": [],
   "source": [
    "# Import Metrics\n",
    "from sklearn.metrics import make_scorer, accuracy_score,precision_score\n",
    "from sklearn.metrics import classification_report\n",
    "from sklearn.metrics import confusion_matrix\n",
    "from sklearn.metrics import accuracy_score ,precision_score,recall_score,f1_score"
   ]
  },
  {
   "cell_type": "code",
   "execution_count": 21,
   "metadata": {
    "colab": {
     "base_uri": "https://localhost:8080/"
    },
    "id": "JEEbart2ORfB",
    "outputId": "44860fb8-eef3-4bdd-b3c8-7950d13461bc"
   },
   "outputs": [
    {
     "name": "stdout",
     "output_type": "stream",
     "text": [
      "['Kirmizi_Pistachio' 'Siit_Pistachio']\n"
     ]
    }
   ],
   "source": [
    "print(df['Class'].unique())\n",
    "# Diving the data into X and y\n",
    "X=df.iloc[:,0:16].values\n",
    "y=df.iloc[:,16].values\n",
    "# Splitting the Data into training And testing set\n",
    "from sklearn.model_selection import train_test_split\n",
    "X_train,X_test,y_train,y_test=train_test_split(X,y,test_size=0.3,random_state=0)"
   ]
  },
  {
   "cell_type": "code",
   "execution_count": 22,
   "metadata": {
    "colab": {
     "base_uri": "https://localhost:8080/"
    },
    "id": "scI4U9R8Uizo",
    "outputId": "9a11ad57-af4d-4fba-dcf9-16d4336798ac"
   },
   "outputs": [
    {
     "name": "stdout",
     "output_type": "stream",
     "text": [
      "Confusion matrix for Logistic Regression\n",
      " [[330  44]\n",
      " [ 40 231]]\n",
      "Accuracy: 0.870\n",
      "Precision: 0.870\n",
      "Recall: 0.870\n",
      "f1-score: 0.870\n"
     ]
    },
    {
     "name": "stderr",
     "output_type": "stream",
     "text": [
      "C:\\Users\\Tanmay Tushar\\AppData\\Local\\Programs\\Python\\Python312\\Lib\\site-packages\\sklearn\\linear_model\\_logistic.py:469: ConvergenceWarning: lbfgs failed to converge (status=1):\n",
      "STOP: TOTAL NO. of ITERATIONS REACHED LIMIT.\n",
      "\n",
      "Increase the number of iterations (max_iter) or scale the data as shown in:\n",
      "    https://scikit-learn.org/stable/modules/preprocessing.html\n",
      "Please also refer to the documentation for alternative solver options:\n",
      "    https://scikit-learn.org/stable/modules/linear_model.html#logistic-regression\n",
      "  n_iter_i = _check_optimize_result(\n"
     ]
    }
   ],
   "source": [
    "# Logistic Regression\n",
    "from sklearn.linear_model import LogisticRegression\n",
    "lr = LogisticRegression(solver= 'lbfgs',max_iter=400)\n",
    "lr.fit(X_train, y_train)\n",
    "Y_pred = lr.predict(X_test)\n",
    "accuracy_lr=round(accuracy_score(y_test,Y_pred)* 100, 2)\n",
    "acc_log = round(lr.score(X_train, y_train) * 100, 2)\n",
    "\n",
    "\n",
    "cm = confusion_matrix(y_test, Y_pred,)\n",
    "accuracy = accuracy_score(y_test,Y_pred)\n",
    "precision =precision_score(y_test, Y_pred,average='micro')\n",
    "recall =  recall_score(y_test, Y_pred,average='micro')\n",
    "f1 = f1_score(y_test,Y_pred,average='micro')\n",
    "print('Confusion matrix for Logistic Regression\\n',cm)\n",
    "print('Accuracy: %.3f' %accuracy)\n",
    "print('Precision: %.3f' %precision)\n",
    "print('Recall: %.3f' %recall)\n",
    "print('f1-score: %.3f' %f1)"
   ]
  },
  {
   "cell_type": "code",
   "execution_count": 23,
   "metadata": {
    "colab": {
     "base_uri": "https://localhost:8080/"
    },
    "id": "zSqk_0bAVFnF",
    "outputId": "a26b57bd-3513-405f-9def-f06c91fa5736"
   },
   "outputs": [
    {
     "name": "stdout",
     "output_type": "stream",
     "text": [
      "Confusion matrix for Naive Bayes\n",
      " [[310  64]\n",
      " [ 48 223]]\n",
      "Accuracy: 0.826\n",
      "Precision: 0.826\n",
      "Recall: 0.826\n",
      "f1-score: 0.826\n"
     ]
    }
   ],
   "source": [
    "# Naive Bayes classification\n",
    "from sklearn.naive_bayes import GaussianNB\n",
    "gaussian = GaussianNB()\n",
    "gaussian.fit(X_train, y_train)\n",
    "Y_pred = gaussian.predict(X_test) \n",
    "accuracy_nb=round(accuracy_score(y_test,Y_pred)* 100, 2)\n",
    "acc_gaussian = round(gaussian.score(X_train, y_train) * 100, 2)\n",
    "\n",
    "cm = confusion_matrix(y_test, Y_pred)\n",
    "accuracy = accuracy_score(y_test,Y_pred)\n",
    "precision =precision_score(y_test, Y_pred,average='micro')\n",
    "recall =  recall_score(y_test, Y_pred,average='micro')\n",
    "f1 = f1_score(y_test,Y_pred,average='micro')\n",
    "print('Confusion matrix for Naive Bayes\\n',cm)\n",
    "print('Accuracy: %.3f' %accuracy)\n",
    "print('Precision: %.3f' %precision)\n",
    "print('Recall: %.3f' %recall)\n",
    "print('f1-score: %.3f' %f1)\n"
   ]
  },
  {
   "cell_type": "code",
   "execution_count": 24,
   "metadata": {
    "colab": {
     "base_uri": "https://localhost:8080/"
    },
    "id": "NCekDCVPVNP_",
    "outputId": "3797eb5c-bce3-40f7-bda5-1958e19adf05"
   },
   "outputs": [
    {
     "name": "stdout",
     "output_type": "stream",
     "text": [
      "Confusion matrix for DecisionTree\n",
      " [[304  70]\n",
      " [ 42 229]]\n",
      "Accuracy: 0.826\n",
      "Precision: 0.826\n",
      "Recall: 0.826\n",
      "f1-score: 0.826\n"
     ]
    }
   ],
   "source": [
    "# Decision Tree\n",
    "from sklearn.tree import DecisionTreeClassifier\n",
    "decision_tree = DecisionTreeClassifier() \n",
    "decision_tree.fit(X_train, y_train)  \n",
    "Y_pred = decision_tree.predict(X_test) \n",
    "accuracy_dt=round(accuracy_score(y_test,Y_pred)* 100, 2)\n",
    "acc_decision_tree = round(decision_tree.score(X_train, y_train) * 100, 2)\n",
    "\n",
    "cm = confusion_matrix(y_test, Y_pred)\n",
    "accuracy = accuracy_score(y_test,Y_pred)\n",
    "precision =precision_score(y_test, Y_pred,average='micro')\n",
    "recall =  recall_score(y_test, Y_pred,average='micro')\n",
    "f1 = f1_score(y_test,Y_pred,average='micro')\n",
    "print('Confusion matrix for DecisionTree\\n',cm)\n",
    "print('Accuracy: %.3f' %accuracy)\n",
    "print('Precision: %.3f' %precision)\n",
    "print('Recall: %.3f' %recall)\n",
    "print('f1-score: %.3f' %f1)"
   ]
  },
  {
   "cell_type": "code",
   "execution_count": 25,
   "metadata": {
    "colab": {
     "base_uri": "https://localhost:8080/"
    },
    "id": "XYW-1CjHVdIm",
    "outputId": "8d93ea95-e6e6-413e-9228-f45765906f87"
   },
   "outputs": [
    {
     "name": "stdout",
     "output_type": "stream",
     "text": [
      "Confusion matrix for Random Forest\n",
      " [[327  47]\n",
      " [ 34 237]]\n",
      "Accuracy: 0.874\n",
      "Precision: 0.874\n",
      "Recall: 0.874\n",
      "f1-score: 0.874\n"
     ]
    }
   ],
   "source": [
    "# Random Forest \n",
    "from sklearn.ensemble import RandomForestClassifier\n",
    "random_forest = RandomForestClassifier(n_estimators=100)\n",
    "random_forest.fit(X_train, y_train)\n",
    "Y_prediction = random_forest.predict(X_test)\n",
    "accuracy_rf=round(accuracy_score(y_test,Y_prediction)* 100, 2)\n",
    "acc_random_forest = round(random_forest.score(X_train, y_train) * 100, 2)\n",
    "\n",
    "\n",
    "cm = confusion_matrix(y_test, Y_prediction)\n",
    "accuracy = accuracy_score(y_test,Y_prediction)\n",
    "precision =precision_score(y_test, Y_prediction,average='micro')\n",
    "recall =  recall_score(y_test, Y_prediction,average='micro')\n",
    "f1 = f1_score(y_test,Y_prediction,average='micro')\n",
    "print('Confusion matrix for Random Forest\\n',cm)\n",
    "print('Accuracy: %.3f' %accuracy)\n",
    "print('Precision: %.3f' %precision)\n",
    "print('Recall: %.3f' %recall)\n",
    "print('f1-score: %.3f' %f1)"
   ]
  },
  {
   "cell_type": "code",
   "execution_count": 26,
   "metadata": {
    "colab": {
     "base_uri": "https://localhost:8080/"
    },
    "id": "Z0dwu28q2y1L",
    "outputId": "2c0722ff-986b-4809-ecc2-973ab1dfb2f1"
   },
   "outputs": [
    {
     "name": "stdout",
     "output_type": "stream",
     "text": [
      "Confusion matrix for SVC\n",
      " [[331  43]\n",
      " [ 42 229]]\n",
      "Accuracy: 0.868\n",
      "Precision: 0.868\n",
      "Recall: 0.868\n",
      "f1-score: 0.868\n"
     ]
    }
   ],
   "source": [
    "# Linear Support vector Machine\n",
    "from sklearn.svm import SVC, LinearSVC\n",
    "linear_svc = LinearSVC(max_iter=7000)\n",
    "linear_svc.fit(X_train, y_train)\n",
    "Y_pred = linear_svc.predict(X_test)\n",
    "accuracy_svc=round(accuracy_score(y_test,Y_pred)* 100, 2)\n",
    "acc_linear_svc = round(linear_svc.score(X_train, y_train) * 100, 2)\n",
    "\n",
    "cm = confusion_matrix(y_test, Y_pred)\n",
    "accuracy = accuracy_score(y_test,Y_pred)\n",
    "precision =precision_score(y_test, Y_pred,average='micro')\n",
    "recall =  recall_score(y_test, Y_pred,average='micro')\n",
    "f1 = f1_score(y_test,Y_pred,average='micro')\n",
    "print('Confusion matrix for SVC\\n',cm)\n",
    "print('Accuracy: %.3f' %accuracy)\n",
    "print('Precision: %.3f' %precision)\n",
    "print('Recall: %.3f' %recall)\n",
    "print('f1-score: %.3f' %f1)"
   ]
  },
  {
   "cell_type": "code",
   "execution_count": null,
   "metadata": {},
   "outputs": [],
   "source": []
  },
  {
   "cell_type": "code",
   "execution_count": null,
   "metadata": {},
   "outputs": [],
   "source": []
  }
 ],
 "metadata": {
  "colab": {
   "include_colab_link": true,
   "provenance": []
  },
  "kernelspec": {
   "display_name": "Python 3 (ipykernel)",
   "language": "python",
   "name": "python3"
  },
  "language_info": {
   "codemirror_mode": {
    "name": "ipython",
    "version": 3
   },
   "file_extension": ".py",
   "mimetype": "text/x-python",
   "name": "python",
   "nbconvert_exporter": "python",
   "pygments_lexer": "ipython3",
   "version": "3.12.0"
  }
 },
 "nbformat": 4,
 "nbformat_minor": 4
}
